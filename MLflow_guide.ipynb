{
 "cells": [
  {
   "cell_type": "markdown",
   "id": "a27e882c-5e5f-4902-8d43-d63575026749",
   "metadata": {},
   "source": [
    "# Save model as artifact for MLflow experiment"
   ]
  },
  {
   "cell_type": "code",
   "execution_count": 29,
   "id": "b17b4d00-6aea-4a45-91f7-2fb902afb053",
   "metadata": {},
   "outputs": [],
   "source": [
    "import torch\n",
    "import torch.nn as nn\n",
    "from MLP_sentiment_analysis_Twitter import models\n",
    "# define device\n",
    "device = \"cuda\" if torch.cuda.is_available() else \"cpu\""
   ]
  },
  {
   "cell_type": "code",
   "execution_count": 30,
   "id": "c20f27f2-a0e0-4ff6-b9d5-6605051dc033",
   "metadata": {},
   "outputs": [
    {
     "data": {
      "text/html": [
       "<pre style=\"white-space:pre;overflow-x:auto;line-height:normal;font-family:Menlo,'DejaVu Sans Mono',consolas,'Courier New',monospace\">Repository initialized!\n",
       "</pre>\n"
      ],
      "text/plain": [
       "Repository initialized!\n"
      ]
     },
     "metadata": {},
     "output_type": "display_data"
    },
    {
     "data": {
      "text/plain": [
       "<Experiment: artifact_location='mlflow-artifacts:/363474a791ea4ebf8b0e375509b6c86a', creation_time=1700855979430, experiment_id='4', last_update_time=1700855979430, lifecycle_stage='active', name='Twitter_Sentiment_Analysis', tags={}>"
      ]
     },
     "execution_count": 30,
     "metadata": {},
     "output_type": "execute_result"
    }
   ],
   "source": [
    "import mlflow\n",
    "import dagshub\n",
    "dagshub.init(repo_owner='peng-ju', repo_name='Power-of-Choice', mlflow=True)\n",
    "mlflow.set_tracking_uri=\"https://dagshub.com/peng-ju/Power-of-Choice.mlflow\"\n",
    "mlflow.set_experiment(experiment_name=\"Twitter_Sentiment_Analysis\")"
   ]
  },
  {
   "cell_type": "code",
   "execution_count": 31,
   "id": "651e7512-deba-4ef8-a090-b9ea52727462",
   "metadata": {},
   "outputs": [],
   "source": [
    "# create model\n",
    "model = models.MLP_text(input_size=200, dim_hidden1=128, dim_hidden2=86, dim_hidden3=30, dim_out=1).to(device)"
   ]
  },
  {
   "cell_type": "code",
   "execution_count": 34,
   "id": "4660cae1-936d-4590-ad7c-bd11630fc9c2",
   "metadata": {},
   "outputs": [
    {
     "data": {
      "text/plain": [
       "tensor([0.4880, 0.4908, 0.4737, 0.4824, 0.4846, 0.4859, 0.4705, 0.4790, 0.4775,\n",
       "        0.4855, 0.4921, 0.4768, 0.4883, 0.4761, 0.4806, 0.4806, 0.4809, 0.4818,\n",
       "        0.4768, 0.4838, 0.4809, 0.4744, 0.4878, 0.4895, 0.4811, 0.4849, 0.4768,\n",
       "        0.4839, 0.4892, 0.4742, 0.4849, 0.4840, 0.4817, 0.4815, 0.4805, 0.4852,\n",
       "        0.4930, 0.4900, 0.4862, 0.4797, 0.4732, 0.4857, 0.4823, 0.4999, 0.4841,\n",
       "        0.4777, 0.4771, 0.4903, 0.4766, 0.4769, 0.4908, 0.4932, 0.4727, 0.4700,\n",
       "        0.4882, 0.4737, 0.4946, 0.4876, 0.4732, 0.5056, 0.4852, 0.4871, 0.4858,\n",
       "        0.4909], device='cuda:0', grad_fn=<ViewBackward0>)"
      ]
     },
     "execution_count": 34,
     "metadata": {},
     "output_type": "execute_result"
    }
   ],
   "source": [
    "data = torch.randn(64, 200).to(device)\n",
    "model.eval()\n",
    "model(data)"
   ]
  },
  {
   "cell_type": "code",
   "execution_count": 44,
   "id": "a5903d58-5c13-4583-ba02-721647a1f4da",
   "metadata": {},
   "outputs": [],
   "source": [
    "# torch save model\n",
    "torch.save(model.state_dict(), \"./models/model0.pt\")\n",
    "\n",
    "# upload mdoel as artifact\n",
    "with mlflow.start_run(run_name=\"test_run\") as run:\n",
    "    mlflow.log_artifact(\"./models/model0.pt\")\n",
    "    mlflow.log_metric(key=\"train_loss\", value=1.0, step=1)\n",
    "    params = {\"key1\":\"val1\",\n",
    "              \"key2\":\"val2\"}\n",
    "    mlflow.log_params(params)"
   ]
  },
  {
   "cell_type": "markdown",
   "id": "db7e30e6-bbf8-4734-b0a0-2494970fb43b",
   "metadata": {},
   "source": [
    "# Download model from an selected MLflow experiment"
   ]
  },
  {
   "cell_type": "code",
   "execution_count": 45,
   "id": "196806e5-88a3-4117-a48a-eec9640f6c1f",
   "metadata": {},
   "outputs": [
    {
     "data": {
      "application/vnd.jupyter.widget-view+json": {
       "model_id": "b1d4f905d2df4f6d981788de2fc3fdd3",
       "version_major": 2,
       "version_minor": 0
      },
      "text/plain": [
       "Downloading artifacts:   0%|          | 0/1 [00:00<?, ?it/s]"
      ]
     },
     "metadata": {},
     "output_type": "display_data"
    },
    {
     "data": {
      "text/plain": [
       "MLP_text(\n",
       "  (layer_input): Linear(in_features=200, out_features=128, bias=True)\n",
       "  (relu): ReLU()\n",
       "  (dropout): Dropout(p=0.5, inplace=False)\n",
       "  (layer_hidden1): Linear(in_features=128, out_features=86, bias=True)\n",
       "  (layer_hidden2): Linear(in_features=86, out_features=30, bias=True)\n",
       "  (layer_hidden3): Linear(in_features=30, out_features=1, bias=True)\n",
       "  (logsoftmax): LogSoftmax(dim=1)\n",
       ")"
      ]
     },
     "execution_count": 45,
     "metadata": {},
     "output_type": "execute_result"
    }
   ],
   "source": [
    "# download model\n",
    "runId = \"cf097afab45b47148cb9e27cad365c3e\" # MLflow run ID\n",
    "artifact_name = \"model0.pt\"\n",
    "mlflow.artifacts.download_artifacts(artifact_uri=f\"runs:/{runId}/{artifact_name}\", dst_path=\"./models\")\n",
    "\n",
    "# torch load model\n",
    "model = models.MLP_text(input_size=200, dim_hidden1=128, dim_hidden2=86, dim_hidden3=30, dim_out=1).to(device)\n",
    "model.load_state_dict(torch.load(\"./models/model0.pt\"))\n",
    "model.eval()"
   ]
  },
  {
   "cell_type": "code",
   "execution_count": 46,
   "id": "252a99d8-d887-4422-a927-315dd74faf6c",
   "metadata": {},
   "outputs": [
    {
     "data": {
      "text/plain": [
       "tensor([0.4880, 0.4908, 0.4737, 0.4824, 0.4846, 0.4859, 0.4705, 0.4790, 0.4775,\n",
       "        0.4855, 0.4921, 0.4768, 0.4883, 0.4761, 0.4806, 0.4806, 0.4809, 0.4818,\n",
       "        0.4768, 0.4838, 0.4809, 0.4744, 0.4878, 0.4895, 0.4811, 0.4849, 0.4768,\n",
       "        0.4839, 0.4892, 0.4742, 0.4849, 0.4840, 0.4817, 0.4815, 0.4805, 0.4852,\n",
       "        0.4930, 0.4900, 0.4862, 0.4797, 0.4732, 0.4857, 0.4823, 0.4999, 0.4841,\n",
       "        0.4777, 0.4771, 0.4903, 0.4766, 0.4769, 0.4908, 0.4932, 0.4727, 0.4700,\n",
       "        0.4882, 0.4737, 0.4946, 0.4876, 0.4732, 0.5056, 0.4852, 0.4871, 0.4858,\n",
       "        0.4909], device='cuda:0', grad_fn=<ViewBackward0>)"
      ]
     },
     "execution_count": 46,
     "metadata": {},
     "output_type": "execute_result"
    }
   ],
   "source": [
    "model(data)"
   ]
  }
 ],
 "metadata": {
  "kernelspec": {
   "display_name": "Python 3 (ipykernel)",
   "language": "python",
   "name": "python3"
  },
  "language_info": {
   "codemirror_mode": {
    "name": "ipython",
    "version": 3
   },
   "file_extension": ".py",
   "mimetype": "text/x-python",
   "name": "python",
   "nbconvert_exporter": "python",
   "pygments_lexer": "ipython3",
   "version": "3.10.12"
  }
 },
 "nbformat": 4,
 "nbformat_minor": 5
}
